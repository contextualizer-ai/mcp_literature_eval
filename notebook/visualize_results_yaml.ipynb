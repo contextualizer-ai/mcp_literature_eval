{
 "cells": [
  {
   "metadata": {
    "collapsed": true
   },
   "cell_type": "markdown",
   "source": "### Read in results YAML from metacoder and do some visualization",
   "id": "29e21fbbf8064cf9"
  },
  {
   "metadata": {
    "ExecuteTime": {
     "end_time": "2025-09-04T14:32:32.493255Z",
     "start_time": "2025-09-04T14:32:30.813520Z"
    }
   },
   "cell_type": "code",
   "source": [
    "import yaml\n",
    "\n",
    "results_yaml_file = \"../results/mcp_literature_eval_results_20250904.yaml\"\n",
    "with open(results_yaml_file, 'r') as file:\n",
    "    metacoder_results = yaml.safe_load(file)\n"
   ],
   "id": "604e3d5fc8bfaa5f",
   "outputs": [
    {
     "data": {
      "text/plain": [
       "dict"
      ]
     },
     "execution_count": 2,
     "metadata": {},
     "output_type": "execute_result"
    }
   ],
   "execution_count": 2
  },
  {
   "metadata": {
    "ExecuteTime": {
     "end_time": "2025-09-04T14:50:17.131267Z",
     "start_time": "2025-09-04T14:50:15.315958Z"
    }
   },
   "cell_type": "code",
   "source": [
    "import yaml\n",
    "import pandas as pd\n",
    "import matplotlib.pyplot as plt\n",
    "\n",
    "# Load YAML\n",
    "results_yaml_file = \"../results/mcp_literature_eval_results_20250904.yaml\"\n",
    "with open(results_yaml_file, 'r') as file:\n",
    "    metacoder_results = yaml.safe_load(file)\n",
    "\n",
    "# Convert YAML results to DataFrame\n",
    "df = pd.DataFrame(metacoder_results['results'])\n",
    "\n",
    "# Expand rows so each server gets its own row\n",
    "df = df.explode('servers')\n",
    "\n",
    "# Use the server as MCP identifier\n",
    "df['MCP'] = df['servers']\n",
    "\n",
    "# Calculate % passed for each MCP\n",
    "percent_passed = (\n",
    "    df.groupby('MCP')['passed']\n",
    "    .mean()\n",
    "    .reset_index()\n",
    ")\n",
    "percent_passed['percent_passed'] = percent_passed['passed'] * 100\n",
    "\n",
    "# Plot\n",
    "plt.figure(figsize=(6, 4))\n",
    "bars = plt.bar(percent_passed['MCP'], percent_passed['percent_passed'], color='skyblue')\n",
    "plt.ylabel('% Passed')\n",
    "plt.xlabel('MCP Server')\n",
    "plt.title('% Passed by MCP')\n",
    "plt.ylim(0, 100)\n",
    "\n",
    "# Add value labels\n",
    "for bar in bars:\n",
    "    height = bar.get_height()\n",
    "    plt.text(bar.get_x() + bar.get_width()/2, height + 1,\n",
    "             f'{height:.1f}%', ha='center', va='bottom', fontsize=9)\n",
    "\n",
    "plt.tight_layout()\n",
    "plt.show()\n"
   ],
   "id": "171b1545180509ee",
   "outputs": [
    {
     "data": {
      "text/plain": [
       "<Figure size 600x400 with 1 Axes>"
      ],
      "image/png": "[encoded data removed]"
     },
     "metadata": {},
     "output_type": "display_data"
    }
   ],
   "execution_count": 9
  },
  {
   "metadata": {
    "ExecuteTime": {
     "end_time": "2025-09-04T14:41:33.118241Z",
     "start_time": "2025-09-04T14:41:33.116668Z"
    }
   },
   "cell_type": "code",
   "source": "",
   "id": "72da194744d4c248",
   "outputs": [],
   "execution_count": null
  }
 ],
 "metadata": {
  "kernelspec": {
   "display_name": "Python 3",
   "language": "python",
   "name": "python3"
  },
  "language_info": {
   "codemirror_mode": {
    "name": "ipython",
    "version": 2
   },
   "file_extension": ".py",
   "mimetype": "text/x-python",
   "name": "python",
   "nbconvert_exporter": "python",
   "pygments_lexer": "ipython2",
   "version": "2.7.6"
  }
 },
 "nbformat": 4,
 "nbformat_minor": 5
}
